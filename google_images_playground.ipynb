{
 "cells": [
  {
   "cell_type": "code",
   "execution_count": 28,
   "metadata": {},
   "outputs": [],
   "source": [
    "from bs4 import BeautifulSoup\n",
    "import json\n",
    "import requests"
   ]
  },
  {
   "cell_type": "code",
   "execution_count": 21,
   "metadata": {},
   "outputs": [],
   "source": [
    "url = \"https://www.google.com/search?tbm=isch&q=aston+martin\"\n",
    "r = requests.get(url, headers={\"User-Agent\": \"Mozilla/5.0 (Windows NT 6.1) AppleWebKit/537.36 (KHTML, like Gecko) Chrome/41.0.2228.0 Safari/537.36\"})\n",
    "soup = BeautifulSoup(r.text)"
   ]
  },
  {
   "cell_type": "code",
   "execution_count": 35,
   "metadata": {},
   "outputs": [
    {
     "data": {
      "text/plain": [
       "['https://amlprod.blob.core.windows.net/aml-prod-sitefinity-custom/images/default-source/model-menu-(mobile)/db11.jpg?sfvrsn=e3b866f9_4',\n",
       " 'https://aml-prod-cdn.azureedge.net/aml-prod-sitefinity-custom/images/default-source/models/db11/db11_05_asset_019b9d02b9cf8b697fbc60ff00000f1b3f.jpg?sfvrsn=ab166bf9_2&w=1200&quality=60',\n",
       " 'https://aml-prod-cdn.azureedge.net/aml-prod-sitefinity-custom/images/default-source/navigation/financial-services2-resized.png?sfvrsn=7d9566f9_2&w=600',\n",
       " 'https://aml-prod-cdn.azureedge.net/aml-prod-sitefinity-custom/images/default-source/models/dbs-superleggera/am7_assets_01-edit.jpg?sfvrsn=42bb60f9_0&w=1200&quality=60',\n",
       " 'https://aml-prod-cdn.azureedge.net/aml-prod-sitefinity-custom/images/default-source/navigation/extendedwarranty1-resizeddarker.jpg?sfvrsn=a54c66f9_0&w=600',\n",
       " 'https://upload.wikimedia.org/wikipedia/commons/e/ea/2018_Aston_Martin_DB11_V8_Automatic_4.0.jpg']"
      ]
     },
     "execution_count": 35,
     "metadata": {},
     "output_type": "execute_result"
    }
   ],
   "source": [
    "divs = soup.find_all(\"div\", {\"class\": \"rg_meta notranslate\"})[:6]\n",
    "objects = [json.loads(div.text) for div in divs]\n",
    "urls = [obj[\"ou\"] for obj in objects]\n",
    "urls"
   ]
  },
  {
   "cell_type": "code",
   "execution_count": null,
   "metadata": {},
   "outputs": [],
   "source": []
  }
 ],
 "metadata": {
  "kernelspec": {
   "display_name": "Python 3",
   "language": "python",
   "name": "python3"
  },
  "language_info": {
   "codemirror_mode": {
    "name": "ipython",
    "version": 3
   },
   "file_extension": ".py",
   "mimetype": "text/x-python",
   "name": "python",
   "nbconvert_exporter": "python",
   "pygments_lexer": "ipython3",
   "version": "3.7.4"
  }
 },
 "nbformat": 4,
 "nbformat_minor": 4
}
